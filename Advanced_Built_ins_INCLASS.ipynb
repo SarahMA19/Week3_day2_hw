{
 "cells": [
  {
   "cell_type": "markdown",
   "metadata": {},
   "source": [
    "# Map, Filter, Reduce, Lambda & Recursion"
   ]
  },
  {
   "cell_type": "markdown",
   "metadata": {},
   "source": [
    "## Tasks Today:\n",
    "\n",
    "1) <b>Lambda Functions</b> <br>\n",
    " &nbsp;&nbsp;&nbsp;&nbsp; a) Syntax <br>\n",
    " &nbsp;&nbsp;&nbsp;&nbsp; b) Saving to a Variable <br>\n",
    " &nbsp;&nbsp;&nbsp;&nbsp; c) Multiple Inputs <br>\n",
    " &nbsp;&nbsp;&nbsp;&nbsp; d) Passing a Lambda into a Function <br>\n",
    " &nbsp;&nbsp;&nbsp;&nbsp; e) Returning a Lambda from a Function <br>\n",
    " &nbsp;&nbsp;&nbsp;&nbsp; f) In-Class Exercise #1 <br>\n",
    "2) <b>Map</b> <br>\n",
    " &nbsp;&nbsp;&nbsp;&nbsp; a) Syntax <br>\n",
    " &nbsp;&nbsp;&nbsp;&nbsp; b) Using Lambda's with Map <br>\n",
    " &nbsp;&nbsp;&nbsp;&nbsp; c) In-Class Exercise #2 <br>\n",
    "3) <b>Filter</b> <br>\n",
    " &nbsp;&nbsp;&nbsp;&nbsp; a) Syntax <br>\n",
    " &nbsp;&nbsp;&nbsp;&nbsp; b) Using Lambda's with Filter <br>\n",
    " &nbsp;&nbsp;&nbsp;&nbsp; c) In-Class Exercise #3 <br>\n",
    "4) <b>Reduce</b> <br>\n",
    " &nbsp;&nbsp;&nbsp;&nbsp; a) Syntax <br>\n",
    " &nbsp;&nbsp;&nbsp;&nbsp; b) Using Lambda's with Reduce <br>\n",
    " &nbsp;&nbsp;&nbsp;&nbsp; c) In-Class Exercise #4 <br>\n",
    "5) <b>Recursion</b> <br>\n",
    " &nbsp;&nbsp;&nbsp;&nbsp; a) Implementing a Base <br>\n",
    " &nbsp;&nbsp;&nbsp;&nbsp; b) Writing a Factorial Function <br>\n",
    " &nbsp;&nbsp;&nbsp;&nbsp; c) In-Class Exercise #5 <br>\n",
    "6) <b>Generators & Iterators</b> <br>\n",
    " &nbsp;&nbsp;&nbsp;&nbsp; a) Yield Keyword <br>\n",
    " &nbsp;&nbsp;&nbsp;&nbsp; b) Inifinite Generator <br>\n",
    " &nbsp;&nbsp;&nbsp;&nbsp; c) In-Class Exercise #6 <br>\n",
    "7) <b>Exercises</b> <br>\n",
    " &nbsp;&nbsp;&nbsp;&nbsp; a) Exercise #1 - Filtering Empty Strings <br>\n",
    " &nbsp;&nbsp;&nbsp;&nbsp; b) Exercise #2 - Sorting with Last Name <br>\n",
    " &nbsp;&nbsp;&nbsp;&nbsp; c) Exercise #3 - Conversion to Farhenheit <br>\n",
    " &nbsp;&nbsp;&nbsp;&nbsp; d) Exercise #4 - Fibonacci Sequence <br>"
   ]
  },
  {
   "cell_type": "markdown",
   "metadata": {},
   "source": [
    "## Lambda Functions <br>\n",
    "<p>Lambda functions... or \"Anonymous Functions\" are referring to inline functions with no name. The keyword lambda denotes the no name function, and executes within a single line. Without saving it to a variable; however, it is not able to be used, unless passed in either as a paramater or within list comprehension.<br>Written as \"(keyword lambda) (one or more inputs) (colon) (function to be executed)\"</p>"
   ]
  },
  {
   "cell_type": "markdown",
   "metadata": {},
   "source": [
    "#### Syntax"
   ]
  },
  {
   "cell_type": "code",
   "execution_count": 5,
   "metadata": {},
   "outputs": [
    {
     "name": "stdout",
     "output_type": "stream",
     "text": [
      "6\n",
      "6\n"
     ]
    }
   ],
   "source": [
    "def addTwo(x):\n",
    "    return x + 2\n",
    "\n",
    "print(addTwo(4))\n",
    "\n",
    "#syntax --> Lambda input: input codeblock\n",
    "                        #or\n",
    "            #Lambda parameters: execution\n",
    "print((lambda x: x + 2)(4))"
   ]
  },
  {
   "cell_type": "markdown",
   "metadata": {},
   "source": [
    "#### Saving to a Variable"
   ]
  },
  {
   "cell_type": "code",
   "execution_count": 6,
   "metadata": {},
   "outputs": [
    {
     "data": {
      "text/plain": [
       "6"
      ]
     },
     "execution_count": 6,
     "metadata": {},
     "output_type": "execute_result"
    }
   ],
   "source": [
    "f_test = lambda x: x + 2\n",
    "f_test(4)"
   ]
  },
  {
   "cell_type": "markdown",
   "metadata": {},
   "source": [
    "#### Multiple Inputs"
   ]
  },
  {
   "cell_type": "code",
   "execution_count": 11,
   "metadata": {},
   "outputs": [
    {
     "name": "stdout",
     "output_type": "stream",
     "text": [
      "120\n"
     ]
    },
    {
     "data": {
      "text/plain": [
       "120"
      ]
     },
     "execution_count": 11,
     "metadata": {},
     "output_type": "execute_result"
    }
   ],
   "source": [
    "#multiple inputs w/o a variable\n",
    "#syntax Lambda parameters: return line\n",
    "print((lambda x, y, z: x * y * z)(3, 5, 8))\n",
    "\n",
    "\n",
    "x_test = lambda x, y, z: x * y * z\n",
    "x_test(3, 5, 8)"
   ]
  },
  {
   "cell_type": "markdown",
   "metadata": {},
   "source": [
    "#### Passing a Lambda into a Function"
   ]
  },
  {
   "cell_type": "code",
   "execution_count": 13,
   "metadata": {},
   "outputs": [
    {
     "data": {
      "text/plain": [
       "4"
      ]
     },
     "execution_count": 13,
     "metadata": {},
     "output_type": "execute_result"
    }
   ],
   "source": [
    "def multiply(func, num):\n",
    "    \"\"\"\n",
    "    this takes in a func as a parameter and a num as the other\n",
    "    \"\"\"\n",
    "    \n",
    "    return func(num)\n",
    "multiply(lambda x: x * x, 4) #anonymous  function (lambda x: x*x)\n",
    "\n",
    "multiply(lambda x: x//2, 8)"
   ]
  },
  {
   "cell_type": "markdown",
   "metadata": {},
   "source": [
    "#### Returning a Lambda from a Function"
   ]
  },
  {
   "cell_type": "code",
   "execution_count": 25,
   "metadata": {},
   "outputs": [
    {
     "name": "stdout",
     "output_type": "stream",
     "text": [
      "<function returnFunc.<locals>.mult at 0x7fec09b9eb80>\n",
      "10\n",
      "['Brendan', 'Sarah', 'Jane']\n",
      "<class 'function'>\n",
      "10\n"
     ]
    }
   ],
   "source": [
    "# regular func definition\n",
    "def mult_test(num):\n",
    "    return num * 4\n",
    "\n",
    "# func w/i a func\n",
    "def returnFunc():\n",
    "    def mult(num):\n",
    "        return num * 2\n",
    "    return mult\n",
    "f_return = returnFunc()\n",
    "print(returnFunc())\n",
    "print(f_return(5))\n",
    "\n",
    "def test(): #setting up an example of closure\n",
    "    names = [] #this is an example of a protected/private variable\n",
    "    s = lambda name: names.append(name)\n",
    "    t = lambda x: print(names)\n",
    "    return s, t\n",
    "\n",
    "addNames, printInfo = test() #this is an example of destructuring\n",
    "addNames('Brendan')\n",
    "#printInfo('asdf')\n",
    "addNames('Sarah')\n",
    "addNames('Jane')\n",
    "printInfo('asdf')\n",
    "\n",
    "# returning a Lambda from a reg func\n",
    "\n",
    "def returnLamb(b, c):\n",
    "    return lambda x, a :x + a + b + c\n",
    "r_lamb = returnLamb(2,3)\n",
    "print(type(r_lamb))\n",
    "print(r_lamb(4, 1))\n"
   ]
  },
  {
   "cell_type": "markdown",
   "metadata": {},
   "source": [
    "#### If Statements within Lambdas"
   ]
  },
  {
   "cell_type": "code",
   "execution_count": 26,
   "metadata": {},
   "outputs": [
    {
     "name": "stdout",
     "output_type": "stream",
     "text": [
      "6\n",
      "68\n",
      "1\n"
     ]
    }
   ],
   "source": [
    "# NOT if, elif, else\n",
    "# it's if, else\n",
    "#syntax --> Lambda x: True if (condition) else False\n",
    "\n",
    "f_condition = lambda num : num * 2 if num > 10 else num - 2\n",
    "print(f_condition(8))\n",
    "print(f_condition(34))\n",
    "print(f_condition(3))\n",
    "\n",
    "# nesting in the else statement to achieve elif effect:\n",
    "#     Lambda x: x * 10 if x < 2 else (x**2 if x < 5 else x **9)\n",
    "\n"
   ]
  },
  {
   "cell_type": "markdown",
   "metadata": {},
   "source": [
    "#### In-Class Exercise #1 <br>\n",
    "<p>Write an anonymous function that cubes the arguments passed in and assign the anonymous function to a variable 'f'.</p>"
   ]
  },
  {
   "cell_type": "code",
   "execution_count": 29,
   "metadata": {},
   "outputs": [
    {
     "name": "stdout",
     "output_type": "stream",
     "text": [
      "27\n"
     ]
    }
   ],
   "source": [
    "def cubed(num):\n",
    "    return num\n",
    "    \n",
    "f = lambda x: x**3\n",
    "print(f(3))"
   ]
  },
  {
   "cell_type": "markdown",
   "metadata": {},
   "source": [
    "## Map <br>\n",
    "<p>The map function allows you to iterate over an entire list while running a function on each item of the list. This is why the map function works well with lambda's, because it simplifies things and you write less lines of code.<br>The syntax for a map function is \"map(function to be used, list to be used)\"<br>However, you must be careful, as the map function returns a map object, not a list. To turn it into a list we use the list() type conversion.</p>"
   ]
  },
  {
   "cell_type": "markdown",
   "metadata": {},
   "source": [
    "#### Syntax"
   ]
  },
  {
   "cell_type": "code",
   "execution_count": 35,
   "metadata": {},
   "outputs": [
    {
     "name": "stdout",
     "output_type": "stream",
     "text": [
      "[16, 121, 3136, 4, 225, 64]\n",
      "[4, 11, 56, 2, 15, 8]\n"
     ]
    }
   ],
   "source": [
    "# map(function, iterable - list, dict, tuple, set)\n",
    "# normally use of a pre-defined function BUT if can also be a Lambda\n",
    "# Let's start with a list and square all the numbers\n",
    "\n",
    "numlist = [4, 11, 56, 2, 15, 8]\n",
    "\n",
    "#pre-defined ex\n",
    " def squared(num):\n",
    "    return num ** 2\n",
    "\n",
    "\n",
    "# for n in range(len(numlist)):\n",
    "#     numlist[n] = squared(numlist[n])\n",
    "# print(numlist)\n",
    "\n",
    "# with a list comprehension\n",
    "next_nums = [n**2 for n in numlist]\n",
    "print(next_nums)\n",
    "print(numlist)\n",
    "\n",
    "\n"
   ]
  },
  {
   "cell_type": "code",
   "execution_count": 38,
   "metadata": {},
   "outputs": [
    {
     "name": "stdout",
     "output_type": "stream",
     "text": [
      "16\n",
      "121\n",
      "3136\n",
      "4\n",
      "225\n",
      "64\n"
     ]
    }
   ],
   "source": [
    "# finally, let's look at the map function\n",
    "#1st, with the pre-defined function \n",
    "\n",
    "list(map(squared, numlist)) # MOST common use case!\n",
    "\n",
    "\n",
    "#uncommon use case:\n",
    "for m in map(squared, numlist):\n",
    "    print(m)\n"
   ]
  },
  {
   "cell_type": "markdown",
   "metadata": {},
   "source": [
    "#### Using Lambda's with Map"
   ]
  },
  {
   "cell_type": "code",
   "execution_count": 39,
   "metadata": {},
   "outputs": [
    {
     "data": {
      "text/plain": [
       "[16, 121, 3136, 4, 225, 64]"
      ]
     },
     "execution_count": 39,
     "metadata": {},
     "output_type": "execute_result"
    }
   ],
   "source": [
    "list(map(lambda x: x**2, numlist))  # VERY common use case!"
   ]
  },
  {
   "cell_type": "markdown",
   "metadata": {},
   "source": [
    "#### In-Class Exercise #2 <br>\n",
    "<p>Use the map function to double each number and minus it by one in the list by using a lambda function</p>"
   ]
  },
  {
   "cell_type": "code",
   "execution_count": 42,
   "metadata": {},
   "outputs": [
    {
     "data": {
      "text/plain": [
       "[7, 21, 111, 3, 29, 15]"
      ]
     },
     "execution_count": 42,
     "metadata": {},
     "output_type": "execute_result"
    }
   ],
   "source": [
    "numlist = [4, 11, 56, 2, 15, 8]\n",
    "\n",
    "list(map(lambda x: x*2-1, numlist))"
   ]
  },
  {
   "cell_type": "markdown",
   "metadata": {},
   "source": [
    "## Filter() <br>\n",
    "<p>Filter's are similar to the map function, where you're able to pass a function argument and a list argument and filter out something from the list based on the conditions passed. Similar to the map function, it returns a filter object, so you need to type convert it to a list()</p>"
   ]
  },
  {
   "cell_type": "markdown",
   "metadata": {},
   "source": [
    "#### Syntax"
   ]
  },
  {
   "cell_type": "code",
   "execution_count": 46,
   "metadata": {},
   "outputs": [
    {
     "data": {
      "text/plain": [
       "['Andy', 'Angel']"
      ]
     },
     "execution_count": 46,
     "metadata": {},
     "output_type": "execute_result"
    }
   ],
   "source": [
    "# --> filter(func, iter)\n",
    "\n",
    "som_nums = [1, 2, 3, 4, 5]\n",
    "def filtOdds(num):\n",
    "    if num % 2 == 0:\n",
    "        return True\n",
    "    return False\n",
    "list(filter(filtOdds, som_nums))\n",
    "\n",
    "names = ['Bob', 'Andy', 'Max', 'Evan', 'Angel']\n",
    "\n",
    "def a_names(name):\n",
    "    if name[0].lower() == 'a':\n",
    "        return True\n",
    "    return False\n",
    "list(filter(a_names, names))\n",
    "\n",
    "\n",
    "    "
   ]
  },
  {
   "cell_type": "markdown",
   "metadata": {},
   "source": [
    "#### Using Lambda's with Filter()"
   ]
  },
  {
   "cell_type": "code",
   "execution_count": 48,
   "metadata": {},
   "outputs": [
    {
     "name": "stdout",
     "output_type": "stream",
     "text": [
      "['Andy', 'Angel']\n"
     ]
    }
   ],
   "source": [
    "saved_filter = list(filter(lambda name: name[0].lower() == 'a', names))\n",
    "print(saved_filter)"
   ]
  },
  {
   "cell_type": "markdown",
   "metadata": {},
   "source": [
    "#### In-Class Exercise #3 <br>\n",
    "<p>Filter out all the numbers that are below the mean of the list.<br><b>Hint: Import the 'statistics' module</b></p>"
   ]
  },
  {
   "cell_type": "code",
   "execution_count": 53,
   "metadata": {},
   "outputs": [
    {
     "data": {
      "text/plain": [
       "[88, 95, 43, 101]"
      ]
     },
     "execution_count": 53,
     "metadata": {},
     "output_type": "execute_result"
    }
   ],
   "source": [
    "from statistics import mean\n",
    "\n",
    "stat_list = [1, 1, 3, 5, 88, 95, 43, 101]\n",
    "avg = mean(stat_list)\n",
    "\n",
    "def avg_test(num):\n",
    "    if num > avg:\n",
    "        return True\n",
    "    return False\n",
    "\n",
    "list(filter(avg_test, stat_list))\n",
    "\n"
   ]
  },
  {
   "cell_type": "markdown",
   "metadata": {},
   "source": [
    "## Reduce() <br>\n",
    "<p>Be very careful when using this function, as of Python 3 it's been moved to the 'functools' library and no longer is a built-in function.<br>The creator of Python himself, says to just use a for loop instead.</p>"
   ]
  },
  {
   "cell_type": "markdown",
   "metadata": {},
   "source": [
    "#### Syntax"
   ]
  },
  {
   "cell_type": "code",
   "execution_count": 57,
   "metadata": {},
   "outputs": [
    {
     "name": "stdout",
     "output_type": "stream",
     "text": [
      "15\n",
      "-13\n"
     ]
    }
   ],
   "source": [
    "from functools import reduce\n",
    "\n",
    "# --> reduce (func, iter)\n",
    "\n",
    "#whole point is to aggregate all values in a list to one value --> min(), max(), sum()\n",
    "#func takes in 2 parameters and rerturns 1\n",
    "som_nums = [1, 2, 3, 4, 5]\n",
    "\n",
    "def addNums(num1, num2):\n",
    "    return num1 + num2\n",
    "\n",
    "result_add = reduce(addNums, som_nums)\n",
    "print(result_add)\n",
    "\n",
    "def subNums(num1, num2):\n",
    "    return num1 - num2\n",
    "\n",
    "result_sub2 = reduce(subNums, som_nums)\n",
    "print(result_sub2)\n"
   ]
  },
  {
   "cell_type": "markdown",
   "metadata": {},
   "source": [
    "#### Using Lambda's with Reduce()"
   ]
  },
  {
   "cell_type": "code",
   "execution_count": 58,
   "metadata": {},
   "outputs": [
    {
     "name": "stdout",
     "output_type": "stream",
     "text": [
      "15\n"
     ]
    }
   ],
   "source": [
    "result_lamb = reduce(lambda x, y: x + y, som_nums)\n",
    "print(result_lamb)"
   ]
  },
  {
   "cell_type": "markdown",
   "metadata": {},
   "source": [
    "#### In-Class Exercise #4 <br>\n",
    "<p>Use the reduce function to multiply the numbers in the list below together with a lambda function.</p>"
   ]
  },
  {
   "cell_type": "code",
   "execution_count": null,
   "metadata": {},
   "outputs": [],
   "source": []
  },
  {
   "cell_type": "markdown",
   "metadata": {},
   "source": [
    "## Recursion <br>\n",
    "<p>Recursion means that a function is calling itself, so it contanstly executes until a base case is reached. It will then push the returning values back up the chain until the function is complete. A prime example of recursion is computing factorials... such that 5! (factorial) is 5*4*3*2*1 which equals 120.</p>"
   ]
  },
  {
   "cell_type": "markdown",
   "metadata": {},
   "source": [
    "#### Implementing a Base Case"
   ]
  },
  {
   "cell_type": "code",
   "execution_count": 17,
   "metadata": {},
   "outputs": [
    {
     "name": "stdout",
     "output_type": "stream",
     "text": [
      "addNums(1) = addNums(2)\n",
      "addNums(2) = addNums(3)\n",
      "addNums(3) = addNums(4)\n",
      "addNums(4) = addNums(5)\n",
      "addNums(5) = addNums(6)\n",
      "addNums(6) = addNums(7)\n",
      "addNums(7) = addNums(8)\n",
      "addNums(8) = addNums(9)\n",
      "addNums(9) = addNums(10)\n"
     ]
    },
    {
     "data": {
      "text/plain": [
       "55"
      ]
     },
     "execution_count": 17,
     "metadata": {},
     "output_type": "execute_result"
    }
   ],
   "source": [
    "def addNums(num):\n",
    "    if num >= 10:\n",
    "        #print('addNums(10)=10')\n",
    "        return num\n",
    "    else:\n",
    "        print(f\"addNums({num}) = addNums({num+1})\")\n",
    "        return num + addNums(num+1)\n",
    "    \n",
    "addNums(1)\n",
    "\n",
    "# addNums(1) = addNums(2)\n",
    "# addNums(2) = addNums(3)\n",
    "# addNums(3) = addNums(4)\n",
    "# addNums(4) = addNums(5)\n",
    "# addNums(5) = addNums(6)  --> addNums(6)is now 6! so we add 5 to that!\n",
    "# addNums(6) = addNums(7)  --> addNums(7)is now 7! so we add 6 to that!\n",
    "# addNums(7) = addNums(8)  --> addNums(8)is now 8! so we add 7 to that!\n",
    "# addNums(8) = addNums(9)  --> addNums(9)is now 9! so we add 8 to that!\n",
    "# addNums(9) = addNums(10) --> addNums(10)is now 10! so we add 9 to that!\n",
    "# addNums(10)=10   # We finally hit our base case - time to go back down the chain!"
   ]
  },
  {
   "cell_type": "markdown",
   "metadata": {},
   "source": [
    "#### Writing a Factorial Function"
   ]
  },
  {
   "cell_type": "code",
   "execution_count": 62,
   "metadata": {},
   "outputs": [
    {
     "name": "stdout",
     "output_type": "stream",
     "text": [
      "120\n",
      "120\n"
     ]
    }
   ],
   "source": [
    "# 5! (factorial) is %*4*3*2*1 which equals 120\n",
    "\n",
    "#while loop version:\n",
    "def factor(num):\n",
    "    count = 1\n",
    "    while num >=1:\n",
    "        count = num *count\n",
    "        num -= 1\n",
    "    return count\n",
    "factor(5)\n",
    "\n",
    "\n",
    "def factorial(num):\n",
    "    if num <= 1:\n",
    "        return 1\n",
    "    else:\n",
    "        return num * factorial(num - 1)\n",
    "print(factor(5))\n",
    "print(factorial(5))"
   ]
  },
  {
   "cell_type": "markdown",
   "metadata": {},
   "source": [
    "#### In-Class Exercise #5 <br>\n",
    "<p>Write a recursive function that subtracts all numbers to the argument given.</p>"
   ]
  },
  {
   "cell_type": "code",
   "execution_count": null,
   "metadata": {},
   "outputs": [],
   "source": [
    "# see above with a minus sign!!"
   ]
  },
  {
   "cell_type": "markdown",
   "metadata": {},
   "source": [
    "## Generators <br>\n",
    "<p>Generators are a type of iterable, like lists or tuples. They do not allow indexing, but they can still be iterated through with for loops. They are created using functions and the yield statement.</p>"
   ]
  },
  {
   "cell_type": "markdown",
   "metadata": {},
   "source": [
    "#### Yield Keyword <br>\n",
    "<p>The yield keyword denotes a generator, it doesn't return so it won't leave the function and reset all variables in the function scope, instead it yields the number back to the caller.</p>"
   ]
  },
  {
   "cell_type": "code",
   "execution_count": 67,
   "metadata": {},
   "outputs": [
    {
     "name": "stdout",
     "output_type": "stream",
     "text": [
      "2\n",
      "<class 'range'>\n"
     ]
    }
   ],
   "source": [
    "#range(1,10)\n",
    "print(range(1,10))\n",
    "print(type(range(1,10)))\n",
    "#help(range)"
   ]
  },
  {
   "cell_type": "code",
   "execution_count": 70,
   "metadata": {},
   "outputs": [
    {
     "name": "stdout",
     "output_type": "stream",
     "text": [
      "5\n",
      "10\n",
      "15\n",
      "20\n",
      "25\n",
      "30\n",
      "35\n",
      "40\n",
      "45\n"
     ]
    }
   ],
   "source": [
    "#Yield Keyword is just like return ... EXCEPT it denotes a generator, aka it keeps returning\n",
    "def my_range(start, stop, step):\n",
    "    while start < stop:\n",
    "        yield start\n",
    "        start += step\n",
    "#my_range(2, 22, 2)\n",
    "\n",
    "for i in my_range(5, 50, 5):\n",
    "    print(i)"
   ]
  },
  {
   "cell_type": "markdown",
   "metadata": {},
   "source": [
    "#### Infinite Generator"
   ]
  },
  {
   "cell_type": "code",
   "execution_count": null,
   "metadata": {},
   "outputs": [],
   "source": [
    "# bad, never create infinite loops\n"
   ]
  },
  {
   "cell_type": "markdown",
   "metadata": {},
   "source": [
    "#### In-Class Exercise #6 <br>\n",
    "<p>Create a generator that takes a number argument and yields that number squared, then prints each number squared until zero is reached.</p>"
   ]
  },
  {
   "cell_type": "code",
   "execution_count": 73,
   "metadata": {},
   "outputs": [
    {
     "name": "stdout",
     "output_type": "stream",
     "text": [
      "25\n",
      "16\n",
      "9\n",
      "4\n",
      "1\n"
     ]
    }
   ],
   "source": [
    "def squared(start):\n",
    "    while start > 0:\n",
    "        yield start ** 2\n",
    "        start -= 1\n",
    "        \n",
    "for i in squared(5):\n",
    "    print(i)"
   ]
  },
  {
   "cell_type": "markdown",
   "metadata": {},
   "source": [
    "# Exercises"
   ]
  },
  {
   "cell_type": "markdown",
   "metadata": {},
   "source": [
    "### Exercise #1 <br>\n",
    "<p>Filter out all of the empty strings from the list below</p>\n",
    "\n",
    "`Output: ['Argentina', 'San Diego', 'Boston', 'New York']`"
   ]
  },
  {
   "cell_type": "code",
   "execution_count": 100,
   "metadata": {},
   "outputs": [
    {
     "data": {
      "text/plain": [
       "['Argentina', 'San Diego', 'Boston', 'New York']"
      ]
     },
     "execution_count": 100,
     "metadata": {},
     "output_type": "execute_result"
    }
   ],
   "source": [
    "places = [\" \",\"Argentina\", \" \", \"San Diego\",\"\",\"  \",\"\",\"Boston\",\"New York\"]\n",
    "\n",
    "def emptyString(space):\n",
    "    for n in space:\n",
    "        if n == \" \":\n",
    "            return False\n",
    "        return True\n",
    "list(filter(emptyString, places))\n",
    "\n",
    "               \n",
    "\n",
    "\n",
    "\n",
    "\n"
   ]
  },
  {
   "cell_type": "markdown",
   "metadata": {},
   "source": [
    "### Exercise #2 <br>\n",
    "<p>Write an anonymous function that sorts this list by the last name...<br><b>Hint: Use the \".sort()\" method and access the key\"</b></p>\n",
    "\n",
    "`Output: ['Victor aNisimov', 'Gary A.J. Bernstein', 'Joel Carter', 'Andrew P. Garfield', 'David hassELHOFF']`"
   ]
  },
  {
   "cell_type": "code",
   "execution_count": 119,
   "metadata": {},
   "outputs": [
    {
     "name": "stdout",
     "output_type": "stream",
     "text": [
      "['Victor aNisimov', 'Gary A.J. Bernstein', 'Joel Carter', 'Andrew P. Garfield', 'David hassELHOFF']\n"
     ]
    }
   ],
   "source": [
    "author = [\"Joel Carter\", \"Victor aNisimov\", \"Andrew P. Garfield\",\"David hassELHOFF\",\"Gary A.J. Bernstein\"]\n",
    "\n",
    "\n",
    "\n",
    "\n",
    "author.sort(key = lambda name: name.split(\" \")[-1].lower())\n",
    "print(author)"
   ]
  },
  {
   "cell_type": "markdown",
   "metadata": {},
   "source": [
    "### Exercise #3 <br>\n",
    "<p>Convert the list below from Celsius to Farhenheit, using the map function with a lambda...</p>\n",
    "\n",
    "`Output: [('Nashua', 89.6), ('Boston', 53.6), ('Los Angelos', 111.2), ('Miami', 84.2)]\n",
    "`"
   ]
  },
  {
   "cell_type": "code",
   "execution_count": 5,
   "metadata": {},
   "outputs": [
    {
     "name": "stdout",
     "output_type": "stream",
     "text": [
      "[('Nashua', 89.6), ('Boston', 53.6), ('Los Angelos', 111.2), ('Miami', 84.2)]\n"
     ]
    }
   ],
   "source": [
    "# F = (9/5)*C + 32\n",
    "places = [('Nashua',32),(\"Boston\",12),(\"Los Angelos\",44),(\"Miami\",29)]\n",
    "\n",
    "\n",
    "fahrenheit = list(map(lambda x: (x[0], (9/5) * x[1]+ 32), places))\n",
    "print(fahrenheit)\n",
    "                      \n",
    "\n",
    "#i had to google this one. i had no idea how to implement the F sequence into the lambda.                     "
   ]
  },
  {
   "cell_type": "markdown",
   "metadata": {},
   "source": [
    "### Exercise #4 <br>\n",
    "<p>Write a recursion function to perform the fibonacci sequence up to the number passed in.</p>\n",
    "\n",
    "`Output for fib(5) => \n",
    "Iteration 0: 1\n",
    "Iteration 1: 1\n",
    "Iteration 2: 2\n",
    "Iteration 3: 3\n",
    "Iteration 4: 5\n",
    "Iteration 5: 8`"
   ]
  },
  {
   "cell_type": "code",
   "execution_count": 42,
   "metadata": {
    "scrolled": true
   },
   "outputs": [
    {
     "name": "stdout",
     "output_type": "stream",
     "text": [
      "Fibonacci(2) = Fibonacci(1)\n",
      "Fibonacci(1) = Fibonacci(0)\n",
      "2\n"
     ]
    }
   ],
   "source": [
    "def Fibonacci(idx): #define function with index value\n",
    "    if idx <= 1: #base case, if smaller or equal to 1\n",
    "        return idx #return index itself\n",
    "    else:\n",
    "        return Fibonacci(idx-1) + Fibonacci(idx-2) # index - 1 takes care of previous value, then add function index - 2\n",
    "\n",
    "print(Fibonacci(3)) #call function / pass index number \n",
    "\n",
    "\n",
    "\n"
   ]
  }
 ],
 "metadata": {
  "kernelspec": {
   "display_name": "Python 3",
   "language": "python",
   "name": "python3"
  },
  "language_info": {
   "codemirror_mode": {
    "name": "ipython",
    "version": 3
   },
   "file_extension": ".py",
   "mimetype": "text/x-python",
   "name": "python",
   "nbconvert_exporter": "python",
   "pygments_lexer": "ipython3",
   "version": "3.9.13"
  },
  "vscode": {
   "interpreter": {
    "hash": "aee8b7b246df8f9039afb4144a1f6fd8d2ca17a180786b69acc140d282b71a49"
   }
  }
 },
 "nbformat": 4,
 "nbformat_minor": 2
}
